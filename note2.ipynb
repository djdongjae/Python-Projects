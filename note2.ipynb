{
 "cells": [
  {
   "cell_type": "code",
   "execution_count": null,
   "metadata": {},
   "outputs": [],
   "source": [
    "import csv"
   ]
  },
  {
   "cell_type": "code",
   "execution_count": null,
   "metadata": {},
   "outputs": [],
   "source": [
    "result = []\n",
    "with open('product_list.csv', 'r', encoding='euc-kr') as f:\n",
    "    reader = csv.reader(f)\n",
    "    for line in reader:\n",
    "        result.append(line)\n",
    "        print(line)"
   ]
  },
  {
   "cell_type": "code",
   "execution_count": null,
   "metadata": {},
   "outputs": [],
   "source": [
    "with open('product_list.csv', 'w', newline='') as f:\n",
    "    writer = csv.writer(f)\n",
    "    writer.writerows(result)\n",
    "    writer.writerow(['9', '양말', '5000'])"
   ]
  },
  {
   "cell_type": "code",
   "execution_count": null,
   "metadata": {},
   "outputs": [],
   "source": [
    "result.append(['9', '양말', '5000'])\n",
    "\n",
    "with open('product_list.csv', 'w', newline='') as f:\n",
    "    writer = csv.writer(f)\n",
    "    writer.writerows(result)"
   ]
  },
  {
   "cell_type": "code",
   "execution_count": null,
   "metadata": {},
   "outputs": [],
   "source": [
    "import sqlite3"
   ]
  },
  {
   "cell_type": "code",
   "execution_count": null,
   "metadata": {},
   "outputs": [],
   "source": [
    "sqlite3.version"
   ]
  },
  {
   "cell_type": "code",
   "execution_count": null,
   "metadata": {},
   "outputs": [],
   "source": [
    "sqlite3.sqlite_version"
   ]
  },
  {
   "cell_type": "code",
   "execution_count": null,
   "metadata": {},
   "outputs": [],
   "source": [
    "conn = sqlite3.connect('test.db')"
   ]
  },
  {
   "cell_type": "code",
   "execution_count": null,
   "metadata": {},
   "outputs": [],
   "source": [
    "c = conn.cursor()"
   ]
  },
  {
   "cell_type": "code",
   "execution_count": null,
   "metadata": {},
   "outputs": [],
   "source": [
    "query = '''CREATE TABLE test (ID INTEGER PRIMARY KEY, PRODUCT_NAME TEXT, PRICE INTEGER)'''\n",
    "c.execute(query)"
   ]
  },
  {
   "cell_type": "code",
   "execution_count": null,
   "metadata": {},
   "outputs": [],
   "source": [
    "conn.close()"
   ]
  },
  {
   "cell_type": "code",
   "execution_count": null,
   "metadata": {},
   "outputs": [],
   "source": [
    "import sys\n",
    "!{sys.executable} -m pip install pandas\n",
    "import pandas as pd"
   ]
  },
  {
   "cell_type": "code",
   "execution_count": null,
   "metadata": {},
   "outputs": [],
   "source": [
    "conn = sqlite3.connect(\"test.db\")"
   ]
  },
  {
   "cell_type": "code",
   "execution_count": null,
   "metadata": {},
   "outputs": [],
   "source": [
    "c = conn.cursor()"
   ]
  },
  {
   "cell_type": "code",
   "execution_count": null,
   "metadata": {},
   "outputs": [],
   "source": [
    "query = '''CREATE TABLE test (ID INTEGER PRIMARY KEY, PRODUCT_NAME TEXT, PRICE INTEGER)'''\n",
    "c.execute(query)"
   ]
  },
  {
   "cell_type": "code",
   "execution_count": null,
   "metadata": {},
   "outputs": [],
   "source": [
    "c.execute('''SELECT * FROM sqlite_master WHERE type=\"table\"''')\n",
    "print(c.fetchall())"
   ]
  },
  {
   "cell_type": "code",
   "execution_count": null,
   "metadata": {},
   "outputs": [],
   "source": [
    "pd.DataFrame(c.fetchall())"
   ]
  },
  {
   "cell_type": "code",
   "execution_count": null,
   "metadata": {},
   "outputs": [],
   "source": [
    "# 데이터 삽입\n",
    "c.execute(\"INSERT INTO test VALUES(1,'모자',150000)\")"
   ]
  },
  {
   "cell_type": "code",
   "execution_count": null,
   "metadata": {},
   "outputs": [],
   "source": [
    "conn.commit()"
   ]
  },
  {
   "cell_type": "code",
   "execution_count": null,
   "metadata": {},
   "outputs": [],
   "source": [
    "# 데이터 삽입\n",
    "c.execute(\"INSERT INTO test VALUES(2,'코트',200000)\")\n",
    "conn.commit()"
   ]
  },
  {
   "cell_type": "code",
   "execution_count": null,
   "metadata": {},
   "outputs": [],
   "source": [
    "# 데이터 삽입\n",
    "c.execute(\"INSERT INTO test(PRODUCT_NAME, PRICE, ID) VALUES(?,?,?)\", ('티셔츠', 20000, 3))\n",
    "conn.commit()"
   ]
  },
  {
   "cell_type": "code",
   "execution_count": null,
   "metadata": {},
   "outputs": [],
   "source": [
    "# 데이터 삽입\n",
    "c.execute(\"INSERT INTO test(ID, PRICE, PRODUCT_NAME) VALUES(?,?,?)\", (4, 55000, '블라우스'))\n",
    "conn.commit()"
   ]
  },
  {
   "cell_type": "code",
   "execution_count": null,
   "metadata": {},
   "outputs": [],
   "source": [
    "# 테이블 내용 삭제\n",
    "c.execute(\"DELETE FROM test\")\n",
    "conn.commit()"
   ]
  },
  {
   "cell_type": "code",
   "execution_count": null,
   "metadata": {},
   "outputs": [],
   "source": [
    "# 추가할 상품 리스트\n",
    "product_list = [[1, '모자', 15000],\n",
    "                [2, '코트', 200000],\n",
    "                [3, '티셔츠', 20000],\n",
    "                [4, '블라우스', 55000],\n",
    "                [5, '가디건', 45000],\n",
    "                [6, '청바지', 50000],\n",
    "                [7, '구두', 150000],\n",
    "                [8, '가방', 170000]]"
   ]
  },
  {
   "cell_type": "code",
   "execution_count": null,
   "metadata": {},
   "outputs": [],
   "source": [
    "# 데이터 여러줄 삽입\n",
    "c.executemany(\"INSERT INTO test(ID, PRODUCT_NAME, PRICE) VALUES(?,?,?)\", product_list)\n",
    "conn.commit()"
   ]
  },
  {
   "cell_type": "code",
   "execution_count": null,
   "metadata": {},
   "outputs": [],
   "source": [
    "c.execute(\"UPDATE test SET PRODUCT_NAME = ? WHERE ID = ?\", ('슬랙스', 6))\n",
    "conn.commit()"
   ]
  },
  {
   "cell_type": "code",
   "execution_count": null,
   "metadata": {},
   "outputs": [],
   "source": [
    "# 특정 row 만 가져오기\n",
    "c.execute('''SELECT * FROM test''')\n",
    "pd.DataFrame(c.fetchall())"
   ]
  },
  {
   "cell_type": "code",
   "execution_count": null,
   "metadata": {},
   "outputs": [],
   "source": [
    "# 테이블 내용 삭제\n",
    "c.execute(\"DELETE FROM test\")\n",
    "conn.commit()"
   ]
  },
  {
   "cell_type": "code",
   "execution_count": null,
   "metadata": {},
   "outputs": [],
   "source": [
    "# 추가할 상품 리스트\n",
    "product_list = [[1, '모자', 15000],\n",
    "                [2, '코트', 200000],\n",
    "                [3, '티셔츠', 20000],\n",
    "                [4, '블라우스', 55000],\n",
    "                [5, '가디건', 45000],\n",
    "                [6, '청바지', 50000],\n",
    "                [7, '구두', 150000],\n",
    "                [8, '가방', 170000]]"
   ]
  },
  {
   "cell_type": "code",
   "execution_count": null,
   "metadata": {},
   "outputs": [],
   "source": [
    "# 데이터 여러줄 삽입\n",
    "c.executemany(\"INSERT INTO test(ID, PRODUCT_NAME, PRICE) VALUES(?,?,?)\", product_list)\n",
    "conn.commit()"
   ]
  },
  {
   "cell_type": "code",
   "execution_count": null,
   "metadata": {},
   "outputs": [],
   "source": [
    "c.execute(\"UPDATE test SET PRODUCT_NAME = ? WHERE ID = ?\", ('슬랙스', 6))\n",
    "conn.commit()"
   ]
  },
  {
   "cell_type": "code",
   "execution_count": null,
   "metadata": {},
   "outputs": [],
   "source": [
    "c.execute(\"UPDATE test SET PRICE = :price WHERE ID = :id\", {\"price\": 55000, \"id\": 6})\n",
    "conn.commit()"
   ]
  },
  {
   "cell_type": "code",
   "execution_count": null,
   "metadata": {},
   "outputs": [],
   "source": [
    "c.execute(\"UPDATE test SET PRODUCT_NAME = '%s' WHERE ID = '%s'\" % ('트랜치코트', 2))\n",
    "conn.commit()"
   ]
  },
  {
   "cell_type": "code",
   "execution_count": null,
   "metadata": {},
   "outputs": [],
   "source": [
    "c.execute(\"DELETE FROM test WHERE ID =?\", (8,))\n",
    "conn.commit()"
   ]
  },
  {
   "cell_type": "code",
   "execution_count": null,
   "metadata": {},
   "outputs": [],
   "source": [
    "c.execute(\"DELETE FROM test WHERE PRODUCT_NAME = :product_name\", {'product_name': '슬랙스'})\n",
    "conn.commit()"
   ]
  },
  {
   "cell_type": "code",
   "execution_count": null,
   "metadata": {},
   "outputs": [],
   "source": [
    "c.execute(\"DELETE FROM test\")\n",
    "conn.commit()"
   ]
  },
  {
   "cell_type": "code",
   "execution_count": null,
   "metadata": {},
   "outputs": [],
   "source": [
    "# DB 연결 해제\n",
    "conn.close()"
   ]
  },
  {
   "cell_type": "code",
   "execution_count": null,
   "metadata": {},
   "outputs": [],
   "source": [
    "# 연습용 DB 연결\n",
    "conn = sqlite3.connect(\"test.db\")\n",
    "# 커서 생성\n",
    "c = conn.cursor()"
   ]
  },
  {
   "cell_type": "code",
   "execution_count": null,
   "metadata": {},
   "outputs": [],
   "source": [
    "# 추가할 상품 리스트\n",
    "product_list = [[1, '모자', 15000],\n",
    "                [2, '코트', 200000],\n",
    "                [3, '티셔츠', 20000],\n",
    "                [4, '블라우스', 55000],\n",
    "                [5, '가디건', 45000],\n",
    "                [6, '청바지', 50000],\n",
    "                [7, '구두', 150000],\n",
    "                [8, '가방', 170000]]"
   ]
  },
  {
   "cell_type": "code",
   "execution_count": null,
   "metadata": {},
   "outputs": [],
   "source": [
    "# 데이터 여러줄 삽입\n",
    "c.executemany(\"INSERT OR REPLACE INTO test(ID, PRODUCT_NAME, PRICE) VALUES(?,?,?)\", product_list)\n",
    "conn.commit()"
   ]
  },
  {
   "cell_type": "code",
   "execution_count": null,
   "metadata": {},
   "outputs": [],
   "source": [
    "# iterdump 내용 확인\n",
    "for line in conn.iterdump():\n",
    "    print(line)"
   ]
  },
  {
   "cell_type": "code",
   "execution_count": null,
   "metadata": {},
   "outputs": [],
   "source": [
    "# 데이터 베이스 백업 파일 생성\n",
    "with conn:\n",
    "    with open('backup.sql', 'w') as f:\n",
    "        for line in conn.iterdump():\n",
    "            f.write('%s\\n' % line)\n",
    "        print('Completed.')"
   ]
  },
  {
   "cell_type": "code",
   "execution_count": null,
   "metadata": {},
   "outputs": [],
   "source": [
    "# 테이블 삭제\n",
    "c.execute(\"DROP TABLE test\")\n",
    "conn.commit()"
   ]
  },
  {
   "cell_type": "code",
   "execution_count": null,
   "metadata": {},
   "outputs": [],
   "source": [
    "# 백업 SQL 파일 로딩\n",
    "with open('backup.sql', 'r') as sql_file:\n",
    "    sql_script = sql_file.read()"
   ]
  },
  {
   "cell_type": "code",
   "execution_count": null,
   "metadata": {},
   "outputs": [],
   "source": [
    "sql_script"
   ]
  },
  {
   "cell_type": "code",
   "execution_count": null,
   "metadata": {},
   "outputs": [],
   "source": [
    "# SQL 스크립트 실행\n",
    "c.executescript(sql_script)\n",
    "conn.commit()"
   ]
  },
  {
   "cell_type": "code",
   "execution_count": null,
   "metadata": {},
   "outputs": [],
   "source": [
    "# 데이터 베이스 연결 해제\n",
    "conn.close()"
   ]
  },
  {
   "cell_type": "code",
   "execution_count": null,
   "metadata": {},
   "outputs": [],
   "source": [
    "product_list = pd.read_csv('product_list.csv', encoding='utf-8')\n",
    "print(product_list)"
   ]
  },
  {
   "cell_type": "code",
   "execution_count": null,
   "metadata": {},
   "outputs": [],
   "source": [
    "# 연습용 DB 연결\n",
    "conn = sqlite3.connect(\"test.db\")\n",
    "# 커서 생성\n",
    "c = conn.cursor()"
   ]
  },
  {
   "cell_type": "code",
   "execution_count": null,
   "metadata": {},
   "outputs": [],
   "source": [
    "# 상품 리스트 테이블 추가\n",
    "product_list.to_sql('productList', conn, if_exists='append', index=False)"
   ]
  },
  {
   "cell_type": "code",
   "execution_count": null,
   "metadata": {},
   "outputs": [],
   "source": [
    "# 테이블 삭제\n",
    "c.execute(\"DROP TABLE productList\")\n",
    "conn.commit()"
   ]
  },
  {
   "cell_type": "code",
   "execution_count": null,
   "metadata": {},
   "outputs": [],
   "source": [
    "product_list = [['모자', 15000],\n",
    "                ['코트', 200000],\n",
    "                ['티셔츠', 20000],\n",
    "                ['블라우스', 55000],\n",
    "                ['가디건', 45000],\n",
    "                ['청바지', 50000],\n",
    "                ['구두', 150000],\n",
    "                ['가방', 170000],\n",
    "                ['양말', 5000]]\n",
    "\n",
    "# 테이블 생성\n",
    "c.execute(\"CREATE TABLE IF NOT EXISTS productList(ID INTEGER PRIMARY KEY AUTOINCREMENT, 상품명 TEXT, 가격 INTEGER)\")\n",
    "\n",
    "# 레코드 추가\n",
    "c.executemany(\"INSERT INTO productList (상품명,가격) values (?,?)\", product_list)\n",
    "conn.commit()"
   ]
  },
  {
   "cell_type": "code",
   "execution_count": null,
   "metadata": {},
   "outputs": [],
   "source": [
    "c.execute(\"CREATE TABLE IF NOT EXISTS orderList(ID INTEGER PRIMARY KEY AUTOINCREMENT, 상품명 TEXT, 개수 INTEGER, 가격 INTEGER, 총합 INTEGER)\")\n",
    "conn.commit()"
   ]
  },
  {
   "cell_type": "code",
   "execution_count": null,
   "metadata": {},
   "outputs": [],
   "source": [
    "while True:\n",
    "\n",
    "    # 상품 목록을 표시\n",
    "    print(\"------------------상품목록------------------\")\n",
    "    for row in c.execute('SELECT ID, 상품명, 가격 FROM productList'):\n",
    "        print('상품번호 :', row[0], ', 상품명 :', row[1], ', 가격 :', row[2])\n",
    "    print(\"--------------------------------------------\")\n",
    "\n",
    "    # 사용자 상품 선택\n",
    "    print('')\n",
    "    num = input(\"구매하실 상품의 번호를 입력해주세요: \")\n",
    "    c.execute(\"SELECT 상품명, 가격 FROM productList WHERE id = ?\", (num,))\n",
    "    result = c.fetchone()\n",
    "\n",
    "    # 상품 번호와 주문 수량을 입력\n",
    "    print('')\n",
    "    count = int(input(\"구매할 수량을 입력해주세요: \"))\n",
    "    total = count * int(result[1])\n",
    "\n",
    "    # 주문 데이터를 db에 추가\n",
    "    c.execute(\"INSERT INTO orderList (상품명, 개수, 가격, 총합) VALUES (?,?,?,?)\", (result[0], count, result[1], total))\n",
    "\n",
    "    # 현재까지 주문 내역을 출력\n",
    "    print('')\n",
    "    print(\"현재까지 구매한 내역 보기\")\n",
    "    print(\"--------------------주문목록--------------------\")\n",
    "    for row in c.execute('SELECT * FROM orderList'):\n",
    "        print('상품명 :', row[1], ', 주문수량 :', row[2], ', 단가 :', row[3], ', 구매가격 :', row[4])\n",
    "    print(\"------------------------------------------------\")\n",
    "\n",
    "    # 사용자 추가 구매 여부\n",
    "    print('')\n",
    "    print(\"상품을 추가 구매하시겠습니까?\\n중단하려면 'x'을 눌러주세요.\\n계속 하시려면 엔터키를 눌러주세요. \")\n",
    "    if (input() == \"x\"):\n",
    "        break\n",
    " "
   ]
  },
  {
   "cell_type": "code",
   "execution_count": null,
   "metadata": {},
   "outputs": [],
   "source": [
    "# 주문 내역에서 총 구매 가격 계산\n",
    "print(\"총 구매가격\", end='')\n",
    "\n",
    "for row in c.execute('SELECT sum(총합) FROM orderList'):\n",
    "    print(' : ', row[0], '원')\n",
    "print('')\n",
    "\n",
    "# 주문 내역 초기화\n",
    "c.execute(\"DELETE FROM orderList\")\n",
    "\n",
    "# 데이터 베이스 연결 해제\n",
    "conn.close()"
   ]
  },
  {
   "cell_type": "code",
   "execution_count": null,
   "metadata": {},
   "outputs": [],
   "source": [
    "import sqlite3\n",
    "conn = sqlite3.connect('blog.db')"
   ]
  },
  {
   "cell_type": "code",
   "execution_count": null,
   "metadata": {},
   "outputs": [],
   "source": [
    "c = conn.cursor()\n",
    "c.execute('''\n",
    "            create table blog (\n",
    "                id integer primary key,\n",
    "                subject text,\n",
    "                content text,\n",
    "                date text\n",
    "                )\n",
    "          ''')"
   ]
  },
  {
   "cell_type": "code",
   "execution_count": null,
   "metadata": {},
   "outputs": [],
   "source": [
    "c.execute('''\n",
    "          insert into blog values (\n",
    "              1,\n",
    "              '첫 번째 블로그',\n",
    "              '첫 번째 작성글',\n",
    "              '20221022'\n",
    "          )\n",
    "          ''')\n",
    "conn.commit()"
   ]
  },
  {
   "cell_type": "code",
   "execution_count": null,
   "metadata": {},
   "outputs": [],
   "source": [
    "c.execute(\"select * from blog\")\n",
    "import pandas as pd\n",
    "pd.DataFrame(c.fetchall())"
   ]
  },
  {
   "cell_type": "code",
   "execution_count": null,
   "metadata": {},
   "outputs": [],
   "source": [
    "c.execute('''\n",
    "          insert into blog values (\n",
    "              2,\n",
    "              '두 번째 블로그',\n",
    "              '두 번째 작성글',\n",
    "              '20221022'\n",
    "          )\n",
    "          ''')\n",
    "conn.commit()"
   ]
  },
  {
   "cell_type": "code",
   "execution_count": null,
   "metadata": {},
   "outputs": [],
   "source": [
    "c.execute('''\n",
    "          insert into blog values (\n",
    "              3,\n",
    "              '세 번째 블로그',\n",
    "              '세 번째 작성글',\n",
    "              '20221022'\n",
    "          )\n",
    "          ''')\n",
    "conn.commit()"
   ]
  },
  {
   "cell_type": "code",
   "execution_count": null,
   "metadata": {},
   "outputs": [],
   "source": [
    "conn.close()"
   ]
  },
  {
   "cell_type": "code",
   "execution_count": null,
   "metadata": {},
   "outputs": [],
   "source": [
    "from tkinter import *\n",
    "\n",
    "root = Tk()\n",
    "label = Label(root, text='Hello World !')\n",
    "label.pack()\n",
    "\n",
    "root.mainloop()"
   ]
  },
  {
   "cell_type": "code",
   "execution_count": null,
   "metadata": {},
   "outputs": [],
   "source": [
    "from tkinter import *\n",
    "\n",
    "root = Tk()\n",
    "root.geometry('300x200')\n",
    "label = Label(root, text='Hello World !')\n",
    "label.pack()\n",
    "\n",
    "root.mainloop()"
   ]
  },
  {
   "cell_type": "code",
   "execution_count": null,
   "metadata": {},
   "outputs": [],
   "source": [
    "from tkinter import *\n",
    "\n",
    "root = Tk()\n",
    "root.geometry('200x200')\n",
    "listbox = Listbox(root)\n",
    "listbox.pack()\n",
    "\n",
    "for i in ['첫번째 요소', '두번째 요소', '세번째 요소', '네번째 요소']:\n",
    "    listbox.insert(END, i)\n",
    "    \n",
    "root.mainloop()"
   ]
  },
  {
   "cell_type": "code",
   "execution_count": null,
   "metadata": {},
   "outputs": [],
   "source": [
    "from tkinter import *\n",
    "\n",
    "def event_for_listbox(event):\n",
    "    print(\"선택되었습니다 !\")\n",
    "    \n",
    "root = Tk()\n",
    "root.geometry('200x200')\n",
    "listbox = Listbox(root)\n",
    "listbox.pack()\n",
    "\n",
    "for i in ['첫번째 요소', '두번째 요소', '세번째 요소', '네번째 요소']:\n",
    "    listbox.insert(END, i)\n",
    "    \n",
    "listbox.bind('<<ListboxSelect>>', event_for_listbox)\n",
    "\n",
    "root.mainloop()"
   ]
  },
  {
   "cell_type": "code",
   "execution_count": null,
   "metadata": {},
   "outputs": [],
   "source": [
    "from tkinter import *\n",
    "\n",
    "root = Tk()\n",
    "root.geometry('200x200')\n",
    "\n",
    "entry = Entry(root)\n",
    "entry.insert(0, \"데이터를 입력해 주세요\")\n",
    "entry.pack()\n",
    "\n",
    "root.mainloop()"
   ]
  },
  {
   "cell_type": "code",
   "execution_count": null,
   "metadata": {},
   "outputs": [],
   "source": [
    "from tkinter import *\n",
    "\n",
    "def event_for_entry(event):\n",
    "    print(f\"사용자 입력 값은 {entry.get()} 입니다 !\")\n",
    "    \n",
    "root = Tk()\n",
    "root.geometry('200x200')\n",
    "\n",
    "entry = Entry(root)\n",
    "entry.insert(0, \"데이터를 입력해 주세요\")\n",
    "entry.bind(\"<Return>\", event_for_entry)\n",
    "entry.pack()\n",
    "\n",
    "root.mainloop()"
   ]
  },
  {
   "cell_type": "code",
   "execution_count": null,
   "metadata": {},
   "outputs": [],
   "source": [
    "from tkinter import *\n",
    "\n",
    "data = '''첫번째 데이터\n",
    "두번째 데이터\n",
    "세번째 데이터\n",
    "'''\n",
    "\n",
    "root = Tk()\n",
    "root.geometry('200x200')\n",
    "\n",
    "text = Text(root)\n",
    "text.insert(1.0, data)\n",
    "text.pack()\n",
    "\n",
    "root.mainloop()"
   ]
  },
  {
   "cell_type": "code",
   "execution_count": null,
   "metadata": {},
   "outputs": [],
   "source": [
    "from tkinter import *\n",
    "\n",
    "def btn_click(event):\n",
    "    print(f\"버튼이 클릭되었습니다 !\")\n",
    "    \n",
    "root = Tk()\n",
    "root.geometry('200x100')\n",
    "\n",
    "b1 = Button(root, text=\"나의 첫번째 버튼\")\n",
    "b1.bind('<Button-1>', btn_click)\n",
    "b1.pack()\n",
    "\n",
    "root.mainloop()"
   ]
  },
  {
   "cell_type": "code",
   "execution_count": null,
   "metadata": {},
   "outputs": [],
   "source": [
    "from tkinter import *\n",
    "\n",
    "def btn_click(event):\n",
    "    print(f\"사용자 입력 값은 : \\n{text.get(1.0, END)} 입니다!\")\n",
    "    \n",
    "data = '''여러줄의 데이터를 입력하고 버튼을 클릭해주세요'''\n",
    "\n",
    "root = Tk()\n",
    "root.geometry('500x500')\n",
    "\n",
    "text = Text(root)\n",
    "text.insert(1.0, data)\n",
    "text.pack()\n",
    "\n",
    "b1 = Button(root, text='결과값 확인')\n",
    "b1.bind('<Button-1>', btn_click)\n",
    "b1.pack()\n",
    "\n",
    "root.mainloop()"
   ]
  },
  {
   "cell_type": "code",
   "execution_count": null,
   "metadata": {},
   "outputs": [],
   "source": [
    "from tkinter import *\n",
    "\n",
    "root = Tk()\n",
    "root.geometry('300x300')\n",
    "\n",
    "buttonLeft = Button(root, width=10, text='1')\n",
    "buttonLeft.pack(side='left')\n",
    "\n",
    "buttonRight = Button(root, width=10, text='2')\n",
    "buttonRight.pack(side='right')\n",
    "\n",
    "buttonTop = Button(root, width=10, text='3')\n",
    "buttonTop.pack(side='top')\n",
    "\n",
    "buttonBottom = Button(root, width=10, text='4')\n",
    "buttonBottom.pack(side='bottom')\n",
    "\n",
    "buttonCenter = Button(root, width=10, text='5')\n",
    "buttonCenter.pack(expand=True)\n",
    "\n",
    "root.mainloop()"
   ]
  },
  {
   "cell_type": "code",
   "execution_count": null,
   "metadata": {},
   "outputs": [],
   "source": [
    "from tkinter import *\n",
    "\n",
    "root = Tk()\n",
    "root.geometry('300x300')\n",
    "\n",
    "button1 = Button(root, width=10, text='1')\n",
    "button1.place(x=30, y=30)\n",
    "\n",
    "button2 = Button(root, width=10, text='2')\n",
    "button2.place(x=50, y=50)\n",
    "\n",
    "button3 = Button(root, width=10, text='3')\n",
    "button3.place(x=100, y=100)\n",
    "\n",
    "button4 = Button(root, width=10, text='4')\n",
    "button4.place(x=200, y=100)\n",
    "\n",
    "button5 = Button(root, width=10, text='5')\n",
    "button5.place(x=200, y=150)\n",
    "\n",
    "root.mainloop()"
   ]
  },
  {
   "cell_type": "code",
   "execution_count": null,
   "metadata": {},
   "outputs": [],
   "source": [
    "from tkinter import *\n",
    "\n",
    "root = Tk()\n",
    "root.geometry('300x300')\n",
    "\n",
    "button1 = Button(root, width=10, text='1')\n",
    "button1.grid(row=0, column=0)\n",
    "\n",
    "button2 = Button(root, width=10, text='2')\n",
    "button2.grid(row=0, column=1)\n",
    "\n",
    "button3 = Button(root, width=10, text='3')\n",
    "button3.grid(row=0, column=2)\n",
    "\n",
    "button4 = Button(root, width=10, text='4')\n",
    "button4.grid(row=1, column=0)\n",
    "\n",
    "button5 = Button(root, width=10, text='5')\n",
    "button5.grid(row=1, column=1)\n",
    "\n",
    "button6 = Button(root, width=10, text='6')\n",
    "button6.grid(row=1, column=2)\n",
    "\n",
    "root.mainloop()"
   ]
  },
  {
   "cell_type": "code",
   "execution_count": null,
   "metadata": {},
   "outputs": [],
   "source": [
    "from tkinter.messagebox import *\n",
    "\n",
    "if askyesno(\"확인\", \"정말 삭제하시겠습니까?\"):\n",
    "    # Yes : True 값 반환\n",
    "    print('삭제되었습니다.')\n",
    "else:\n",
    "    # No : False 값 반환\n",
    "    print('삭제되지 않았습니다.')"
   ]
  },
  {
   "cell_type": "code",
   "execution_count": null,
   "metadata": {},
   "outputs": [],
   "source": [
    "from tkinter.messagebox import *\n",
    "\n",
    "showerror(\"오류\", \"오류가 발생했습니다\")"
   ]
  },
  {
   "cell_type": "code",
   "execution_count": null,
   "metadata": {},
   "outputs": [],
   "source": [
    "import sys\n",
    "\n",
    "!{sys.executable} -m pip install pyInstaller"
   ]
  },
  {
   "cell_type": "code",
   "execution_count": null,
   "metadata": {},
   "outputs": [],
   "source": [
    "def get_blog_list():\n",
    "    conn = sqlite3.connect('blog.db')\n",
    "    c = conn.cursor()\n",
    "    c.execute(\"SELECT * FROM blog\")\n",
    "    result = c.fetchall()\n",
    "    conn.close()\n",
    "    return result"
   ]
  },
  {
   "cell_type": "code",
   "execution_count": null,
   "metadata": {},
   "outputs": [],
   "source": [
    "get_blog_list()"
   ]
  },
  {
   "cell_type": "code",
   "execution_count": null,
   "metadata": {},
   "outputs": [],
   "source": [
    "def add_blog(subject, content):         # 제목, 내용\n",
    "    conn = sqlite3.connect('blog.db')\n",
    "    conn.row_factory = sqlite3.Row\n",
    "    c = conn.cursor()\n",
    "    today = time.strftime('%Y%m%d')     # 현재 시간\n",
    "    c.execute(\"INSERT INTO blog (subject, content, date) VALUES (?, ?, ?)\",\n",
    "              (subject, content, today))\n",
    "    conn.commit()\n",
    "    conn.close()"
   ]
  },
  {
   "cell_type": "code",
   "execution_count": null,
   "metadata": {},
   "outputs": [],
   "source": []
  }
 ],
 "metadata": {
  "kernelspec": {
   "display_name": "Python 3",
   "language": "python",
   "name": "python3"
  },
  "language_info": {
   "codemirror_mode": {
    "name": "ipython",
    "version": 3
   },
   "file_extension": ".py",
   "mimetype": "text/x-python",
   "name": "python",
   "nbconvert_exporter": "python",
   "pygments_lexer": "ipython3",
   "version": "3.8.18"
  }
 },
 "nbformat": 4,
 "nbformat_minor": 2
}
